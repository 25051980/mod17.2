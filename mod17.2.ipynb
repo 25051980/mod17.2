{
 "cells": [
  {
   "cell_type": "markdown",
   "metadata": {},
   "source": [
    "# Árvores II - Tarefa 2"
   ]
  },
  {
   "cell_type": "markdown",
   "metadata": {},
   "source": [
    "### 1. Carregar as bases\n",
    "\n",
    "Vamos carregar as bases lidas na tarefa passada. Se você salvou essas bases em arquivo texto, basta fazer a leitura com o comando ```pd.read_csv``` das seguintes bases:\n",
    "\n",
    "- X_train\n",
    "- Y_train\n",
    "- X_test\n",
    "- Y_test\n",
    "\n",
    "Não se esqueça de considerar a leitura dos índices dos arquivos no ```read_csv()```!"
   ]
  },
  {
   "cell_type": "code",
   "execution_count": 1,
   "metadata": {},
   "outputs": [],
   "source": [
    "import pandas as pd\n",
    "import seaborn as sns\n",
    "import matplotlib.pyplot as plt\n",
    "import numpy as np\n",
    "from sklearn.tree import DecisionTreeClassifier\n",
    "from sklearn.model_selection import train_test_split\n",
    "from sklearn.metrics import plot_confusion_matrix"
   ]
  },
  {
   "cell_type": "code",
   "execution_count": 2,
   "metadata": {},
   "outputs": [
    {
     "name": "stdout",
     "output_type": "stream",
     "text": [
      "X_train:\n",
      "               tBodyAcc-mean()-X  tBodyAcc-mean()-Y  tBodyAcc-mean()-Z\n",
      "order subject                                                         \n",
      "0     1                 0.288585          -0.020294          -0.132905\n",
      "1     1                 0.278419          -0.016411          -0.123520\n",
      "2     1                 0.279653          -0.019467          -0.113462\n",
      "3     1                 0.279174          -0.026201          -0.123283\n",
      "4     1                 0.276629          -0.016570          -0.115362\n",
      "\n",
      "y_train:\n",
      "   0\n",
      "0  5\n",
      "1  5\n",
      "2  5\n",
      "3  5\n",
      "4  5\n",
      "\n",
      "X_test:\n",
      "               tBodyAcc-mean()-X  tBodyAcc-mean()-Y  tBodyAcc-mean()-Z\n",
      "order subject                                                         \n",
      "0     2                 0.257178          -0.023285          -0.014654\n",
      "1     2                 0.286027          -0.013163          -0.119083\n",
      "2     2                 0.275485          -0.026050          -0.118152\n",
      "3     2                 0.270298          -0.032614          -0.117520\n",
      "4     2                 0.274833          -0.027848          -0.129527\n",
      "\n",
      "y_test:\n",
      "   0\n",
      "0  5\n",
      "1  5\n",
      "2  5\n",
      "3  5\n",
      "4  5\n"
     ]
    }
   ],
   "source": [
    "# Caminhos para os arquivos CSV filtrados\n",
    "X_train_path = \"/Users/samwalford/Downloads/UCI HAR Dataset/train/X_train_filtered.csv\"\n",
    "y_train_path = \"/Users/samwalford/Downloads/UCI HAR Dataset/train/y_train.txt\"\n",
    "X_test_path = \"/Users/samwalford/Downloads/UCI HAR Dataset/test/X_test_filtered.csv\"\n",
    "y_test_path = \"/Users/samwalford/Downloads/UCI HAR Dataset/test/y_test.txt\"\n",
    "\n",
    "# Carregar as bases\n",
    "X_train = pd.read_csv(X_train_path, index_col=[0, 1])  # Carregar X_train com índice duplo (se necessário)\n",
    "y_train = pd.read_csv(y_train_path, header=None)       # Carregar y_train sem índice específico\n",
    "X_test = pd.read_csv(X_test_path, index_col=[0, 1])    # Carregar X_test com índice duplo (se necessário)\n",
    "y_test = pd.read_csv(y_test_path, header=None)         # Carregar y_test sem índice específico\n",
    "\n",
    "# Exibir informações básicas para confirmar o carregamento\n",
    "print(\"X_train:\")\n",
    "print(X_train.head())\n",
    "print(\"\\ny_train:\")\n",
    "print(y_train.head())\n",
    "print(\"\\nX_test:\")\n",
    "print(X_test.head())\n",
    "print(\"\\ny_test:\")\n",
    "print(y_test.head())\n"
   ]
  },
  {
   "cell_type": "code",
   "execution_count": null,
   "metadata": {},
   "outputs": [],
   "source": []
  },
  {
   "cell_type": "markdown",
   "metadata": {},
   "source": [
    "### 2. Divisão da base em Treino, Validação e Teste\n",
    "\n",
    "A base já se encontra dividida em Treino e Validação. O que vamos fazer então é extrair uma base de Validação da base de Treino.\n",
    "\n",
    "Extraia 25% da base de treino como base de validação."
   ]
  },
  {
   "cell_type": "code",
   "execution_count": 3,
   "metadata": {},
   "outputs": [
    {
     "name": "stdout",
     "output_type": "stream",
     "text": [
      "X_train:\n",
      "               tBodyAcc-mean()-X  tBodyAcc-mean()-Y  tBodyAcc-mean()-Z\n",
      "order subject                                                         \n",
      "0     1                 0.288585          -0.020294          -0.132905\n",
      "1     1                 0.278419          -0.016411          -0.123520\n",
      "2     1                 0.279653          -0.019467          -0.113462\n",
      "3     1                 0.279174          -0.026201          -0.123283\n",
      "4     1                 0.276629          -0.016570          -0.115362\n",
      "\n",
      "y_train:\n",
      "   0\n",
      "0  5\n",
      "1  5\n",
      "2  5\n",
      "3  5\n",
      "4  5\n",
      "\n",
      "X_test:\n",
      "               tBodyAcc-mean()-X  tBodyAcc-mean()-Y  tBodyAcc-mean()-Z\n",
      "order subject                                                         \n",
      "0     2                 0.257178          -0.023285          -0.014654\n",
      "1     2                 0.286027          -0.013163          -0.119083\n",
      "2     2                 0.275485          -0.026050          -0.118152\n",
      "3     2                 0.270298          -0.032614          -0.117520\n",
      "4     2                 0.274833          -0.027848          -0.129527\n",
      "\n",
      "y_test:\n",
      "   0\n",
      "0  5\n",
      "1  5\n",
      "2  5\n",
      "3  5\n",
      "4  5\n"
     ]
    }
   ],
   "source": [
    "\n",
    "# Caminhos para os arquivos CSV filtrados\n",
    "X_train_path = \"/Users/samwalford/Downloads/UCI HAR Dataset/train/X_train_filtered.csv\"\n",
    "y_train_path = \"/Users/samwalford/Downloads/UCI HAR Dataset/train/y_train.txt\"\n",
    "X_test_path = \"/Users/samwalford/Downloads/UCI HAR Dataset/test/X_test_filtered.csv\"\n",
    "y_test_path = \"/Users/samwalford/Downloads/UCI HAR Dataset/test/y_test.txt\"\n",
    "\n",
    "# Carregar as bases\n",
    "X_train = pd.read_csv(X_train_path, index_col=[0, 1])  # Carregar X_train com índice duplo (se necessário)\n",
    "y_train = pd.read_csv(y_train_path, header=None)       # Carregar y_train sem índice específico\n",
    "X_test = pd.read_csv(X_test_path, index_col=[0, 1])    # Carregar X_test com índice duplo (se necessário)\n",
    "y_test = pd.read_csv(y_test_path, header=None)         # Carregar y_test sem índice específico\n",
    "\n",
    "# Exibir informações básicas para confirmar o carregamento\n",
    "print(\"X_train:\")\n",
    "print(X_train.head())\n",
    "print(\"\\ny_train:\")\n",
    "print(y_train.head())\n",
    "print(\"\\nX_test:\")\n",
    "print(X_test.head())\n",
    "print(\"\\ny_test:\")\n",
    "print(y_test.head())\n"
   ]
  },
  {
   "cell_type": "markdown",
   "metadata": {},
   "source": [
    "### 3. Melhores 3 variáveis\n",
    "\n",
    "Rode uma árvore com profundidade máxima igual a 4 para prever a atividade humana com todas as variáveis.\n",
    "Observe a importância das variáveis e considere as 3 variáveis com maior importância para os próximos passos.\n",
    "Dica: utilize o atributo ```clf.feature_importances_``` da árvore treinada."
   ]
  },
  {
   "cell_type": "code",
   "execution_count": 5,
   "metadata": {},
   "outputs": [
    {
     "name": "stdout",
     "output_type": "stream",
     "text": [
      "As 3 variáveis mais importantes:\n",
      "             Feature  Importance\n",
      "0  tBodyAcc-mean()-X    0.712110\n",
      "1  tBodyAcc-mean()-Y    0.222871\n",
      "2  tBodyAcc-mean()-Z    0.065019\n"
     ]
    }
   ],
   "source": [
    "import pandas as pd\n",
    "from sklearn.model_selection import train_test_split\n",
    "from sklearn.tree import DecisionTreeClassifier\n",
    "\n",
    "# Caminhos para os arquivos CSV filtrados\n",
    "X_train_path = \"/Users/samwalford/Downloads/UCI HAR Dataset/train/X_train_filtered.csv\"\n",
    "y_train_path = \"/Users/samwalford/Downloads/UCI HAR Dataset/train/y_train.txt\"\n",
    "\n",
    "# Carregar as bases\n",
    "X_train = pd.read_csv(X_train_path, index_col=[0, 1])  # Defina o índice duplo, se necessário\n",
    "y_train = pd.read_csv(y_train_path, header=None)       # Carregar y_train sem cabeçalho\n",
    "\n",
    "# Dividir a base de treino em 75% treino e 25% validação\n",
    "X_train_reduced, X_validation, y_train_reduced, y_validation = train_test_split(\n",
    "    X_train, y_train, test_size=0.25, random_state=42\n",
    ")\n",
    "\n",
    "# Criar e treinar uma árvore de decisão com profundidade máxima igual a 4\n",
    "clf = DecisionTreeClassifier(max_depth=4, random_state=42)\n",
    "clf.fit(X_train_reduced, y_train_reduced)\n",
    "\n",
    "# Obter a importância das variáveis\n",
    "importances = clf.feature_importances_\n",
    "\n",
    "# Organizar as importâncias em um DataFrame para facilitar a visualização\n",
    "feature_importances = pd.DataFrame({\n",
    "    'Feature': X_train.columns,\n",
    "    'Importance': importances\n",
    "})\n",
    "\n",
    "# Ordenar as variáveis por importância, em ordem decrescente\n",
    "feature_importances = feature_importances.sort_values(by='Importance', ascending=False)\n",
    "\n",
    "# Selecionar as 3 variáveis mais importantes\n",
    "top_3_features = feature_importances.head(3)\n",
    "print(\"As 3 variáveis mais importantes:\")\n",
    "print(top_3_features)\n",
    "\n"
   ]
  },
  {
   "cell_type": "markdown",
   "metadata": {},
   "source": [
    "### 4. Construa uma árvore com as 3 melhores variáveis\n",
    "\n",
    "Utilizando as três variáveis encontradas acima, construa uma árvore de decisão. Encontre o melhor ```ccp_alpha``` utilizando a base de validação, conforme a estrutura que vimos em aula."
   ]
  },
  {
   "cell_type": "code",
   "execution_count": 6,
   "metadata": {},
   "outputs": [
    {
     "name": "stdout",
     "output_type": "stream",
     "text": [
      "Melhor valor de ccp_alpha: 0.0007896399050466765\n",
      "Acurácia na base de validação: 0.4619151251360174\n"
     ]
    }
   ],
   "source": [
    "import numpy as np\n",
    "from sklearn.tree import DecisionTreeClassifier\n",
    "from sklearn.metrics import accuracy_score\n",
    "from sklearn.model_selection import train_test_split\n",
    "\n",
    "# Supondo que 'top_3_features' contém os nomes das 3 variáveis mais importantes\n",
    "# Filtrar os dados de treino e validação para usar apenas essas 3 variáveis\n",
    "X_train_top3 = X_train_reduced[top_3_features['Feature']]\n",
    "X_validation_top3 = X_validation[top_3_features['Feature']]\n",
    "\n",
    "# Ajustar uma árvore inicial para obter o caminho de poda de complexidade (ccp_alpha)\n",
    "clf = DecisionTreeClassifier(random_state=42, min_samples_leaf=20)\n",
    "clf.fit(X_train_top3, y_train_reduced)\n",
    "\n",
    "# Obter os valores de ccp_alpha e o caminho de poda\n",
    "path = clf.cost_complexity_pruning_path(X_train_top3, y_train_reduced)\n",
    "ccp_alphas = path.ccp_alphas\n",
    "\n",
    "# Listas para armazenar as árvores e as acurácias de validação\n",
    "trees = []\n",
    "validation_accuracies = []\n",
    "\n",
    "# Loop para ajustar uma árvore para cada valor de ccp_alpha\n",
    "for alpha in ccp_alphas:\n",
    "    clf = DecisionTreeClassifier(random_state=42, ccp_alpha=alpha, min_samples_leaf=20)\n",
    "    clf.fit(X_train_top3, y_train_reduced)\n",
    "    trees.append(clf)\n",
    "    \n",
    "    # Prever na base de validação e calcular a acurácia\n",
    "    y_validation_pred = clf.predict(X_validation_top3)\n",
    "    accuracy = accuracy_score(y_validation, y_validation_pred)\n",
    "    validation_accuracies.append(accuracy)\n",
    "\n",
    "# Identificar o melhor valor de ccp_alpha com base na acurácia de validação\n",
    "best_alpha_index = np.argmax(validation_accuracies)\n",
    "best_alpha = ccp_alphas[best_alpha_index]\n",
    "best_tree = trees[best_alpha_index]\n",
    "\n",
    "print(\"Melhor valor de ccp_alpha:\", best_alpha)\n",
    "print(\"Acurácia na base de validação:\", validation_accuracies[best_alpha_index])\n",
    "\n"
   ]
  },
  {
   "cell_type": "code",
   "execution_count": 7,
   "metadata": {},
   "outputs": [
    {
     "name": "stdout",
     "output_type": "stream",
     "text": [
      "CPU times: user 6 µs, sys: 7 µs, total: 13 µs\n",
      "Wall time: 26 µs\n"
     ]
    }
   ],
   "source": [
    "# O código acima\n",
    "%%time\n",
    "\n"
   ]
  },
  {
   "cell_type": "markdown",
   "metadata": {},
   "source": [
    "### 5. Avaliação do modelo\n",
    "\n",
    "Avalie a árvore encontrada no item anterior na base de testes."
   ]
  },
  {
   "cell_type": "code",
   "execution_count": 8,
   "metadata": {},
   "outputs": [
    {
     "name": "stdout",
     "output_type": "stream",
     "text": [
      "Acurácia do modelo na base de teste: 0.44044791313199866\n"
     ]
    }
   ],
   "source": [
    "from sklearn.metrics import accuracy_score\n",
    "\n",
    "# Filtrar a base de teste para usar apenas as 3 variáveis mais importantes\n",
    "X_test_top3 = X_test[top_3_features['Feature']]\n",
    "\n",
    "# Fazer previsões na base de teste usando a melhor árvore encontrada\n",
    "y_test_pred = best_tree.predict(X_test_top3)\n",
    "\n",
    "# Calcular a acurácia na base de teste\n",
    "test_accuracy = accuracy_score(y_test, y_test_pred)\n",
    "\n",
    "print(\"Acurácia do modelo na base de teste:\", test_accuracy)\n"
   ]
  },
  {
   "cell_type": "code",
   "execution_count": 9,
   "metadata": {},
   "outputs": [
    {
     "data": {
      "image/png": "[encoded data removed]",
      "text/plain": [
       "<Figure size 800x600 with 1 Axes>"
      ]
     },
     "metadata": {},
     "output_type": "display_data"
    }
   ],
   "source": [
    "import matplotlib.pyplot as plt\n",
    "\n",
    "# Supondo que você tenha as seguintes acurácias:\n",
    "train_accuracy = max(validation_accuracies)  # ou use a acurácia de treino da árvore com o melhor ccp_alpha\n",
    "validation_accuracy = validation_accuracies[best_alpha_index]  # acurácia na base de validação\n",
    "test_accuracy = test_accuracy  # acurácia na base de teste calculada no passo anterior\n",
    "\n",
    "# Criação do gráfico\n",
    "plt.figure(figsize=(8, 6))\n",
    "accuracy_values = [train_accuracy, validation_accuracy, test_accuracy]\n",
    "labels = ['Treino', 'Validação', 'Teste']\n",
    "\n",
    "plt.bar(labels, accuracy_values, color=['skyblue', 'lightgreen', 'salmon'])\n",
    "plt.xlabel(\"Base\")\n",
    "plt.ylabel(\"Acurácia\")\n",
    "plt.title(\"Desempenho do Modelo nas Bases de Treino, Validação e Teste\")\n",
    "plt.ylim(0, 1)  # define a escala de 0 a 1 para a acurácia\n",
    "\n",
    "# Exibir o valor da acurácia em cada barra\n",
    "for i, v in enumerate(accuracy_values):\n",
    "    plt.text(i, v + 0.02, f\"{v:.2f}\", ha='center', fontweight='bold')\n",
    "\n",
    "plt.show()\n"
   ]
  },
  {
   "cell_type": "code",
   "execution_count": null,
   "metadata": {},
   "outputs": [],
   "source": []
  }
 ],
 "metadata": {
  "kernelspec": {
   "display_name": "Python 3 (ipykernel)",
   "language": "python",
   "name": "python3"
  },
  "language_info": {
   "codemirror_mode": {
    "name": "ipython",
    "version": 3
   },
   "file_extension": ".py",
   "mimetype": "text/x-python",
   "name": "python",
   "nbconvert_exporter": "python",
   "pygments_lexer": "ipython3",
   "version": "3.11.7"
  }
 },
 "nbformat": 4,
 "nbformat_minor": 4
}
